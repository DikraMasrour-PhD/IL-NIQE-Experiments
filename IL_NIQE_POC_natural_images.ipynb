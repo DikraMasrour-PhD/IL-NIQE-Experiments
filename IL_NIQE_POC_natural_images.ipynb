{
 "cells": [
  {
   "cell_type": "markdown",
   "metadata": {},
   "source": [
    "### Natural image quality assessment using the IL-NIQE score\n",
    "Zhang, L., Zhang, L., & Bovik, A. C. (2015). A Feature-Enriched Completely Blind Image Quality Evaluator. IEEE Transactions on Image Processing, \n",
    "24(8), 2579–2591. https://doi.org/10.1109/TIP.2015.2426416"
   ]
  },
  {
   "cell_type": "code",
   "execution_count": 43,
   "metadata": {},
   "outputs": [
    {
     "name": "stdout",
     "output_type": "stream",
     "text": [
      "The autoreload extension is already loaded. To reload it, use:\n",
      "  %reload_ext autoreload\n"
     ]
    }
   ],
   "source": [
    "%load_ext autoreload\n",
    "%autoreload 2\n",
    "\n",
    "import cv2, time\n",
    "import warnings\n",
    "import os, time\n",
    "from tqdm import tqdm\n",
    "\n",
    "import train\n",
    "import IL_NIQE\n",
    "import matplotlib.pyplot as plt\n",
    "from mpl_toolkits.axes_grid1 import ImageGrid"
   ]
  },
  {
   "cell_type": "code",
   "execution_count": 5,
   "metadata": {},
   "outputs": [
    {
     "name": "stderr",
     "output_type": "stream",
     "text": [
      "100%|██████████| 25/25 [29:14<00:00, 70.18s/it]\n",
      "c:\\Users\\zbook\\AppData\\Local\\Programs\\Python\\Python39\\lib\\site-packages\\scipy\\io\\matlab\\_mio5.py:493: VisibleDeprecationWarning: Creating an ndarray from ragged nested sequences (which is a list-or-tuple of lists-or-tuples-or ndarrays with different lengths or shapes) is deprecated. If you meant to do this, you must specify 'dtype=object' when creating the ndarray.\n",
      "  narr = np.asanyarray(source)\n"
     ]
    },
    {
     "name": "stdout",
     "output_type": "stream",
     "text": [
      "\t time used in sec: 1754.6600\n"
     ]
    }
   ],
   "source": [
    "# Model training on pristine natural images\n",
    "img_path = 'pristine'\n",
    "with warnings.catch_warnings():\n",
    "    warnings.simplefilter('ignore', category=RuntimeWarning)\n",
    "    time_start = time.time()\n",
    "\n",
    "    train.train(img_path)\n",
    "\n",
    "    time_used = time.time() - time_start\n",
    "print(f'\\t time used in sec: {time_used:.4f}')"
   ]
  },
  {
   "cell_type": "code",
   "execution_count": 41,
   "metadata": {},
   "outputs": [
    {
     "name": "stderr",
     "output_type": "stream",
     "text": [
      "100%|██████████| 6/6 [06:39<00:00, 66.55s/it]\n"
     ]
    }
   ],
   "source": [
    "img_path = 'test'\n",
    "testFiles = sorted(os.listdir(img_path))\n",
    "scores = []\n",
    "\n",
    "with warnings.catch_warnings():\n",
    "    warnings.simplefilter('ignore', category=RuntimeWarning)\n",
    "    time_start = time.time()\n",
    "\n",
    "    for img_file in tqdm(testFiles):\n",
    "        img = cv2.imread(os.path.join(img_path, img_file))\n",
    "        score = IL_NIQE.calculate_ilniqe(img, 0, input_order='HWC', resize=True, version='python')\n",
    "        scores.append(score)\n",
    "        \n",
    "    time_used = time.time() - time_start"
   ]
  },
  {
   "cell_type": "code",
   "execution_count": 70,
   "metadata": {},
   "outputs": [
    {
     "data": {
      "text/plain": [
       "[52.50106082290212,\n",
       " 63.129814894084674,\n",
       " 30.351262976839088,\n",
       " 37.65771770908794,\n",
       " 69.95764003023722,\n",
       " 17.56009183496072]"
      ]
     },
     "execution_count": 70,
     "metadata": {},
     "output_type": "execute_result"
    }
   ],
   "source": [
    "scores\n"
   ]
  }
 ],
 "metadata": {
  "kernelspec": {
   "display_name": "Python 3",
   "language": "python",
   "name": "python3"
  },
  "language_info": {
   "codemirror_mode": {
    "name": "ipython",
    "version": 3
   },
   "file_extension": ".py",
   "mimetype": "text/x-python",
   "name": "python",
   "nbconvert_exporter": "python",
   "pygments_lexer": "ipython3",
   "version": "3.9.13"
  }
 },
 "nbformat": 4,
 "nbformat_minor": 2
}
